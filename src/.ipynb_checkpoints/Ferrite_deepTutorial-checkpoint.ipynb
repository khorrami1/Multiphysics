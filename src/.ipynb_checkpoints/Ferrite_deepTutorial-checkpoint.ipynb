{
 "cells": [
  {
   "cell_type": "code",
   "execution_count": 2,
   "metadata": {},
   "outputs": [],
   "source": [
    "using Ferrite"
   ]
  },
  {
   "cell_type": "code",
   "execution_count": 164,
   "metadata": {},
   "outputs": [
    {
     "data": {
      "text/plain": [
       "CellScalarValues{1, Float64, RefCube} with 2 shape functions and 1 quadrature points"
      ]
     },
     "execution_count": 164,
     "metadata": {},
     "output_type": "execute_result"
    }
   ],
   "source": [
    "# Quadrature\n",
    "\n",
    "dim = 1\n",
    "\n",
    "ip_fe = Lagrange{dim, RefCube, 1}() # interpolation for the function\n",
    "ip_geo = Lagrange{dim, RefCube, 1}() # interpolation for the geometry\n",
    "qr = QuadratureRule{dim, RefCube}(1)\n",
    "\n",
    "# Specify both function + geometry interpolation\n",
    "cv = CellScalarValues(qr, ip_fe, ip_geo)"
   ]
  },
  {
   "cell_type": "code",
   "execution_count": 165,
   "metadata": {},
   "outputs": [
    {
     "data": {
      "text/plain": [
       "1-element Vector{Vec{1, Float64}}:\n",
       " [0.0]"
      ]
     },
     "execution_count": 165,
     "metadata": {},
     "output_type": "execute_result"
    }
   ],
   "source": [
    "qr.points"
   ]
  },
  {
   "cell_type": "code",
   "execution_count": 166,
   "metadata": {},
   "outputs": [
    {
     "data": {
      "text/plain": [
       "1-element Vector{Float64}:\n",
       " 2.0"
      ]
     },
     "execution_count": 166,
     "metadata": {},
     "output_type": "execute_result"
    }
   ],
   "source": [
    "qr.weights"
   ]
  },
  {
   "cell_type": "code",
   "execution_count": 237,
   "metadata": {},
   "outputs": [
    {
     "data": {
      "text/plain": [
       "f (generic function with 2 methods)"
      ]
     },
     "execution_count": 237,
     "metadata": {},
     "output_type": "execute_result"
    }
   ],
   "source": [
    "f(x::Number) = sin(x)\n",
    "f(x::Vec) = sin(x[1])"
   ]
  },
  {
   "cell_type": "code",
   "execution_count": 168,
   "metadata": {},
   "outputs": [
    {
     "data": {
      "text/plain": [
       "2-element Vector{Node{1, Float64}}:\n",
       " Node{1, Float64}([0.0])\n",
       " Node{1, Float64}([10.0])"
      ]
     },
     "execution_count": 168,
     "metadata": {},
     "output_type": "execute_result"
    }
   ],
   "source": [
    "nodes =  [Node(Vec((0.0))), Node(Vec((10.0)))]"
   ]
  },
  {
   "cell_type": "code",
   "execution_count": 169,
   "metadata": {},
   "outputs": [
    {
     "data": {
      "text/plain": [
       "Tuple{Int64, Int64}"
      ]
     },
     "execution_count": 169,
     "metadata": {},
     "output_type": "execute_result"
    }
   ],
   "source": [
    "typeof(((0, 1)))"
   ]
  },
  {
   "cell_type": "code",
   "execution_count": 185,
   "metadata": {},
   "outputs": [
    {
     "data": {
      "text/plain": [
       "1-element Vector{Line}:\n",
       " Line((1, 2))"
      ]
     },
     "execution_count": 185,
     "metadata": {},
     "output_type": "execute_result"
    }
   ],
   "source": [
    "#Cell{dim, 2, 2}(NTuple{2, Int}((1,2)))\n",
    "cells = [Line((1,2))]"
   ]
  },
  {
   "cell_type": "code",
   "execution_count": 186,
   "metadata": {},
   "outputs": [
    {
     "data": {
      "text/plain": [
       "Grid{1, Line, Float64} with 1 Line cells and 2 nodes"
      ]
     },
     "execution_count": 186,
     "metadata": {},
     "output_type": "execute_result"
    }
   ],
   "source": [
    "grid = Grid(cells, nodes)"
   ]
  },
  {
   "cell_type": "code",
   "execution_count": 187,
   "metadata": {},
   "outputs": [
    {
     "data": {
      "text/plain": [
       "2-element Vector{Vec{1, Float64}}:\n",
       " [0.0]\n",
       " [10.0]"
      ]
     },
     "execution_count": 187,
     "metadata": {},
     "output_type": "execute_result"
    }
   ],
   "source": [
    "coords = getcoordinates(grid, 1)"
   ]
  },
  {
   "cell_type": "code",
   "execution_count": 188,
   "metadata": {},
   "outputs": [
    {
     "data": {
      "text/plain": [
       "CellIterator{1, Line, Float64, Nothing}(UpdateFlags(true, true, true), Grid{1, Line, Float64}(Line[Line((1, 2))], Node{1, Float64}[Node{1, Float64}([0.0]), Node{1, Float64}([10.0])], Dict{String, Set{Int64}}(), Dict{String, Set{Int64}}(), Dict{String, Set{FaceIndex}}(), Dict{String, Set{EdgeIndex}}(), Dict{String, Set{VertexIndex}}(), sparse(Int64[], Int64[], Bool[], 0, 0)), Ferrite.ScalarWrapper{Int64}(0), [0, 0], Vec{1, Float64}[[0.0], [0.0]], nothing, nothing, #undef)"
      ]
     },
     "execution_count": 188,
     "metadata": {},
     "output_type": "execute_result"
    }
   ],
   "source": [
    "cellIter = CellIterator(grid)"
   ]
  },
  {
   "cell_type": "code",
   "execution_count": 195,
   "metadata": {},
   "outputs": [],
   "source": [
    "for cell in CellIterator(grid)\n",
    "    reinit!(cv, cell)\n",
    "end"
   ]
  },
  {
   "cell_type": "code",
   "execution_count": 189,
   "metadata": {},
   "outputs": [
    {
     "data": {
      "text/plain": [
       "2×1 Matrix{Vec{1, Float64}}:\n",
       " [-0.5]\n",
       " [0.5]"
      ]
     },
     "execution_count": 189,
     "metadata": {},
     "output_type": "execute_result"
    }
   ],
   "source": [
    "cv.dNdξ"
   ]
  },
  {
   "cell_type": "code",
   "execution_count": 190,
   "metadata": {},
   "outputs": [
    {
     "data": {
      "text/plain": [
       "2×1 Matrix{Vec{1, Float64}}:\n",
       " [-0.1]\n",
       " [0.1]"
      ]
     },
     "execution_count": 190,
     "metadata": {},
     "output_type": "execute_result"
    }
   ],
   "source": [
    "cv.dNdx"
   ]
  },
  {
   "cell_type": "code",
   "execution_count": 210,
   "metadata": {},
   "outputs": [
    {
     "data": {
      "text/plain": [
       "2-element Vector{Int64}:\n",
       " 1\n",
       " 2"
      ]
     },
     "execution_count": 210,
     "metadata": {},
     "output_type": "execute_result"
    }
   ],
   "source": [
    "collect(cell)[1].nodes"
   ]
  },
  {
   "cell_type": "code",
   "execution_count": 194,
   "metadata": {},
   "outputs": [
    {
     "data": {
      "text/plain": [
       "1-element Vector{Float64}:\n",
       " 10.0"
      ]
     },
     "execution_count": 194,
     "metadata": {},
     "output_type": "execute_result"
    }
   ],
   "source": [
    "cv.detJdV"
   ]
  },
  {
   "cell_type": "code",
   "execution_count": 196,
   "metadata": {},
   "outputs": [
    {
     "data": {
      "text/plain": [
       "QuadratureRule{1, RefCube, Float64}([2.0], Vec{1, Float64}[[0.0]])"
      ]
     },
     "execution_count": 196,
     "metadata": {},
     "output_type": "execute_result"
    }
   ],
   "source": [
    "cv.qr"
   ]
  },
  {
   "cell_type": "code",
   "execution_count": 198,
   "metadata": {},
   "outputs": [
    {
     "data": {
      "text/plain": [
       "QuadratureRule{1, RefCube, Float64}([2.0], Vec{1, Float64}[[0.0]])"
      ]
     },
     "execution_count": 198,
     "metadata": {},
     "output_type": "execute_result"
    }
   ],
   "source": [
    "qr"
   ]
  },
  {
   "cell_type": "code",
   "execution_count": 200,
   "metadata": {},
   "outputs": [
    {
     "data": {
      "text/plain": [
       "1-element Vector{Vec{1, Float64}}:\n",
       " [0.0]"
      ]
     },
     "execution_count": 200,
     "metadata": {},
     "output_type": "execute_result"
    }
   ],
   "source": [
    "qr.points"
   ]
  },
  {
   "cell_type": "code",
   "execution_count": 204,
   "metadata": {},
   "outputs": [
    {
     "data": {
      "text/plain": [
       "1"
      ]
     },
     "execution_count": 204,
     "metadata": {},
     "output_type": "execute_result"
    }
   ],
   "source": [
    "quad_points = getnquadpoints(cv)"
   ]
  },
  {
   "cell_type": "code",
   "execution_count": 224,
   "metadata": {},
   "outputs": [
    {
     "name": "stdout",
     "output_type": "stream",
     "text": [
      "50.0"
     ]
    }
   ],
   "source": [
    "integration_value = 0.0\n",
    "\n",
    "for qp in getnquadpoints(cv)\n",
    "    integration_value += function_value(cv, qp, cell.coords)[1]*getdetJdV(cv, qp)\n",
    "end\n",
    "\n",
    "print(integration_value)\n"
   ]
  },
  {
   "cell_type": "code",
   "execution_count": 232,
   "metadata": {},
   "outputs": [
    {
     "data": {
      "text/plain": [
       "2-element Vector{Float64}:\n",
       "  0.0\n",
       " 10.0"
      ]
     },
     "execution_count": 232,
     "metadata": {},
     "output_type": "execute_result"
    }
   ],
   "source": [
    "f_nodes = f.(cell.coords)"
   ]
  },
  {
   "cell_type": "code",
   "execution_count": 234,
   "metadata": {},
   "outputs": [
    {
     "data": {
      "text/plain": [
       "1-element Vec{1, Float64}:\n",
       " 1.0"
      ]
     },
     "execution_count": 234,
     "metadata": {},
     "output_type": "execute_result"
    }
   ],
   "source": [
    "function_gradient(cv, 1, f_nodes)"
   ]
  },
  {
   "cell_type": "code",
   "execution_count": 236,
   "metadata": {},
   "outputs": [
    {
     "name": "stdout",
     "output_type": "stream",
     "text": [
      "1.0"
     ]
    }
   ],
   "source": [
    "gradient_value = 0.0\n",
    "\n",
    "for qp in getnquadpoints(cv)\n",
    "    gradient_value += function_gradient(cv, qp, f_nodes)[1]\n",
    "end\n",
    "\n",
    "print(gradient_value)\n"
   ]
  },
  {
   "cell_type": "code",
   "execution_count": 229,
   "metadata": {},
   "outputs": [
    {
     "data": {
      "text/plain": [
       "2-element Vector{Vec{1, Float64}}:\n",
       " [0.0]\n",
       " [10.0]"
      ]
     },
     "execution_count": 229,
     "metadata": {},
     "output_type": "execute_result"
    }
   ],
   "source": [
    "cell.coords"
   ]
  },
  {
   "cell_type": "code",
   "execution_count": 243,
   "metadata": {},
   "outputs": [
    {
     "data": {
      "text/plain": [
       "CellIterator{1, Line, Float64, Nothing}(UpdateFlags(true, true, true), Grid{1, Line, Float64}(Line[Line((1, 2))], Node{1, Float64}[Node{1, Float64}([0.0]), Node{1, Float64}([10.0])], Dict{String, Set{Int64}}(), Dict{String, Set{Int64}}(), Dict{String, Set{FaceIndex}}(), Dict{String, Set{EdgeIndex}}(), Dict{String, Set{VertexIndex}}(), sparse(Int64[], Int64[], Bool[], 0, 0)), Ferrite.ScalarWrapper{Int64}(0), [0, 0], Vec{1, Float64}[[0.0], [0.0]], nothing, nothing, #undef)"
      ]
     },
     "execution_count": 243,
     "metadata": {},
     "output_type": "execute_result"
    }
   ],
   "source": [
    "vals_ = values(cellIter)"
   ]
  },
  {
   "cell_type": "code",
   "execution_count": 252,
   "metadata": {},
   "outputs": [
    {
     "data": {
      "text/plain": [
       "2-element Vector{Int64}:\n",
       " 1\n",
       " 2"
      ]
     },
     "execution_count": 252,
     "metadata": {},
     "output_type": "execute_result"
    }
   ],
   "source": [
    "cell.nodes"
   ]
  },
  {
   "cell_type": "code",
   "execution_count": 253,
   "metadata": {},
   "outputs": [
    {
     "data": {
      "text/plain": [
       "DofHandler\n",
       "  Fields:\n",
       "  Not closed!"
      ]
     },
     "execution_count": 253,
     "metadata": {},
     "output_type": "execute_result"
    }
   ],
   "source": [
    "# Degrees of Freedom\n",
    "dh = DofHandler(grid)"
   ]
  },
  {
   "cell_type": "code",
   "execution_count": 254,
   "metadata": {},
   "outputs": [
    {
     "data": {
      "text/plain": [
       "DofHandler\n",
       "  Fields:\n",
       "    :u, interpolation: Lagrange{1, RefCube, 1}(), dim: 3\n",
       "  Not closed!"
      ]
     },
     "execution_count": 254,
     "metadata": {},
     "output_type": "execute_result"
    }
   ],
   "source": [
    "# define a new field\n",
    "push!(dh, :u, 3) # dim=3"
   ]
  },
  {
   "cell_type": "code",
   "execution_count": 255,
   "metadata": {},
   "outputs": [
    {
     "name": "stdout",
     "output_type": "stream",
     "text": [
      "search: \u001b[0m\u001b[1mp\u001b[22m\u001b[0m\u001b[1mu\u001b[22m\u001b[0m\u001b[1ms\u001b[22m\u001b[0m\u001b[1mh\u001b[22m\u001b[0m\u001b[1m!\u001b[22m \u001b[0m\u001b[1mp\u001b[22m\u001b[0m\u001b[1mu\u001b[22m\u001b[0m\u001b[1ms\u001b[22m\u001b[0m\u001b[1mh\u001b[22mfirst\u001b[0m\u001b[1m!\u001b[22m \u001b[0m\u001b[1mp\u001b[22m\u001b[0m\u001b[1mu\u001b[22m\u001b[0m\u001b[1ms\u001b[22m\u001b[0m\u001b[1mh\u001b[22mdisplay\n",
      "\n"
     ]
    },
    {
     "data": {
      "text/latex": [
       "\\begin{verbatim}\n",
       "push!(collection, items...) -> collection\n",
       "\\end{verbatim}\n",
       "Insert one or more \\texttt{items} in \\texttt{collection}. If \\texttt{collection} is an ordered container, the items are inserted at the end (in the given order).\n",
       "\n",
       "\\section{Examples}\n",
       "\\begin{verbatim}\n",
       "julia> push!([1, 2, 3], 4, 5, 6)\n",
       "6-element Vector{Int64}:\n",
       " 1\n",
       " 2\n",
       " 3\n",
       " 4\n",
       " 5\n",
       " 6\n",
       "\\end{verbatim}\n",
       "If \\texttt{collection} is ordered, use \\href{@ref}{\\texttt{append!}} to add all the elements of another collection to it. The result of the preceding example is equivalent to \\texttt{append!([1, 2, 3], [4, 5, 6])}. For \\texttt{AbstractSet} objects, \\href{@ref}{\\texttt{union!}} can be used instead.\n",
       "\n",
       "See \\href{@ref}{\\texttt{sizehint!}} for notes about the performance model.\n",
       "\n",
       "See also \\href{@ref}{\\texttt{pushfirst!}}.\n",
       "\n",
       "\\rule{\\textwidth}{1pt}\n",
       "\\begin{verbatim}\n",
       "push!(dh::AbstractDofHandler, name::Symbol, dim::Int[, ip::Interpolation])\n",
       "\\end{verbatim}\n",
       "Add a \\texttt{dim}-dimensional \\texttt{Field} called \\texttt{name} which is approximated by \\texttt{ip} to \\texttt{dh}.\n",
       "\n",
       "The field is added to all cells of the underlying grid. In case no interpolation \\texttt{ip} is given, the default interpolation of the grid's celltype is used.  If the grid uses several celltypes, \\href{@ref}{\\texttt{push!(dh::MixedDofHandler, fh::FieldHandler)}} must be used instead.\n",
       "\n",
       "\\rule{\\textwidth}{1pt}\n",
       "\\begin{verbatim}\n",
       "push!(dh::MixedDofHandler, fh::FieldHandler)\n",
       "\\end{verbatim}\n",
       "Add all fields of the \\href{@ref}{\\texttt{FieldHandler}} \\texttt{fh} to \\texttt{dh}.\n",
       "\n"
      ],
      "text/markdown": [
       "```\n",
       "push!(collection, items...) -> collection\n",
       "```\n",
       "\n",
       "Insert one or more `items` in `collection`. If `collection` is an ordered container, the items are inserted at the end (in the given order).\n",
       "\n",
       "# Examples\n",
       "\n",
       "```jldoctest\n",
       "julia> push!([1, 2, 3], 4, 5, 6)\n",
       "6-element Vector{Int64}:\n",
       " 1\n",
       " 2\n",
       " 3\n",
       " 4\n",
       " 5\n",
       " 6\n",
       "```\n",
       "\n",
       "If `collection` is ordered, use [`append!`](@ref) to add all the elements of another collection to it. The result of the preceding example is equivalent to `append!([1, 2, 3], [4, 5, 6])`. For `AbstractSet` objects, [`union!`](@ref) can be used instead.\n",
       "\n",
       "See [`sizehint!`](@ref) for notes about the performance model.\n",
       "\n",
       "See also [`pushfirst!`](@ref).\n",
       "\n",
       "---\n",
       "\n",
       "```\n",
       "push!(dh::AbstractDofHandler, name::Symbol, dim::Int[, ip::Interpolation])\n",
       "```\n",
       "\n",
       "Add a `dim`-dimensional `Field` called `name` which is approximated by `ip` to `dh`.\n",
       "\n",
       "The field is added to all cells of the underlying grid. In case no interpolation `ip` is given, the default interpolation of the grid's celltype is used.  If the grid uses several celltypes, [`push!(dh::MixedDofHandler, fh::FieldHandler)`](@ref) must be used instead.\n",
       "\n",
       "---\n",
       "\n",
       "```\n",
       "push!(dh::MixedDofHandler, fh::FieldHandler)\n",
       "```\n",
       "\n",
       "Add all fields of the [`FieldHandler`](@ref) `fh` to `dh`.\n"
      ],
      "text/plain": [
       "\u001b[36m  push!(collection, items...) -> collection\u001b[39m\n",
       "\n",
       "  Insert one or more \u001b[36mitems\u001b[39m in \u001b[36mcollection\u001b[39m. If \u001b[36mcollection\u001b[39m is an ordered\n",
       "  container, the items are inserted at the end (in the given order).\n",
       "\n",
       "\u001b[1m  Examples\u001b[22m\n",
       "\u001b[1m  ≡≡≡≡≡≡≡≡≡≡\u001b[22m\n",
       "\n",
       "\u001b[36m  julia> push!([1, 2, 3], 4, 5, 6)\u001b[39m\n",
       "\u001b[36m  6-element Vector{Int64}:\u001b[39m\n",
       "\u001b[36m   1\u001b[39m\n",
       "\u001b[36m   2\u001b[39m\n",
       "\u001b[36m   3\u001b[39m\n",
       "\u001b[36m   4\u001b[39m\n",
       "\u001b[36m   5\u001b[39m\n",
       "\u001b[36m   6\u001b[39m\n",
       "\n",
       "  If \u001b[36mcollection\u001b[39m is ordered, use \u001b[36mappend!\u001b[39m to add all the elements of another\n",
       "  collection to it. The result of the preceding example is equivalent to\n",
       "  \u001b[36mappend!([1, 2, 3], [4, 5, 6])\u001b[39m. For \u001b[36mAbstractSet\u001b[39m objects, \u001b[36munion!\u001b[39m can be used\n",
       "  instead.\n",
       "\n",
       "  See \u001b[36msizehint!\u001b[39m for notes about the performance model.\n",
       "\n",
       "  See also \u001b[36mpushfirst!\u001b[39m.\n",
       "\n",
       "  ────────────────────────────────────────────────────────────────────────────\n",
       "\n",
       "\u001b[36m  push!(dh::AbstractDofHandler, name::Symbol, dim::Int[, ip::Interpolation])\u001b[39m\n",
       "\n",
       "  Add a \u001b[36mdim\u001b[39m-dimensional \u001b[36mField\u001b[39m called \u001b[36mname\u001b[39m which is approximated by \u001b[36mip\u001b[39m to \u001b[36mdh\u001b[39m.\n",
       "\n",
       "  The field is added to all cells of the underlying grid. In case no\n",
       "  interpolation \u001b[36mip\u001b[39m is given, the default interpolation of the grid's celltype\n",
       "  is used. If the grid uses several celltypes, \u001b[36mpush!(dh::MixedDofHandler,\n",
       "  fh::FieldHandler)\u001b[39m must be used instead.\n",
       "\n",
       "  ────────────────────────────────────────────────────────────────────────────\n",
       "\n",
       "\u001b[36m  push!(dh::MixedDofHandler, fh::FieldHandler)\u001b[39m\n",
       "\n",
       "  Add all fields of the \u001b[36mFieldHandler\u001b[39m \u001b[36mfh\u001b[39m to \u001b[36mdh\u001b[39m."
      ]
     },
     "execution_count": 255,
     "metadata": {},
     "output_type": "execute_result"
    }
   ],
   "source": [
    "?push!"
   ]
  },
  {
   "cell_type": "code",
   "execution_count": 256,
   "metadata": {},
   "outputs": [
    {
     "data": {
      "text/plain": [
       "1:6"
      ]
     },
     "execution_count": 256,
     "metadata": {},
     "output_type": "execute_result"
    }
   ],
   "source": [
    "dof_range(dh, :u)"
   ]
  },
  {
   "cell_type": "code",
   "execution_count": 263,
   "metadata": {},
   "outputs": [
    {
     "data": {
      "text/plain": [
       "1-element Vector{Symbol}:\n",
       " :u"
      ]
     },
     "execution_count": 263,
     "metadata": {},
     "output_type": "execute_result"
    }
   ],
   "source": [
    "Ferrite.getfieldnames(dh)"
   ]
  },
  {
   "cell_type": "code",
   "execution_count": null,
   "metadata": {},
   "outputs": [],
   "source": [
    "# Assembly:"
   ]
  }
 ],
 "metadata": {
  "kernelspec": {
   "display_name": "Julia 1.8.4",
   "language": "julia",
   "name": "julia-1.8"
  },
  "language_info": {
   "file_extension": ".jl",
   "mimetype": "application/julia",
   "name": "julia",
   "version": "1.8.4"
  }
 },
 "nbformat": 4,
 "nbformat_minor": 4
}
