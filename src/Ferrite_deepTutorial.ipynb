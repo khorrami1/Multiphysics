{
 "cells": [
  {
   "cell_type": "code",
   "execution_count": 1,
   "metadata": {},
   "outputs": [],
   "source": [
    "using Ferrite"
   ]
  },
  {
   "cell_type": "code",
   "execution_count": 2,
   "metadata": {},
   "outputs": [
    {
     "data": {
      "text/plain": [
       "CellScalarValues{1, Float64, RefCube} with 2 shape functions and 1 quadrature points"
      ]
     },
     "metadata": {},
     "output_type": "display_data"
    }
   ],
   "source": [
    "# Quadrature\n",
    "\n",
    "dim = 1\n",
    "\n",
    "ip_fe = Lagrange{dim, RefCube, 1}() # interpolation for the function\n",
    "ip_geo = Lagrange{dim, RefCube, 1}() # interpolation for the geometry\n",
    "qr = QuadratureRule{dim, RefCube}(1)\n",
    "\n",
    "# Specify both function + geometry interpolation\n",
    "cv = CellScalarValues(qr, ip_fe, ip_geo)"
   ]
  },
  {
   "cell_type": "code",
   "execution_count": 3,
   "metadata": {},
   "outputs": [
    {
     "data": {
      "text/plain": [
       "1-element Vector{Vec{1, Float64}}:\n",
       " [0.0]"
      ]
     },
     "metadata": {},
     "output_type": "display_data"
    }
   ],
   "source": [
    "qr.points"
   ]
  },
  {
   "cell_type": "code",
   "execution_count": 4,
   "metadata": {},
   "outputs": [
    {
     "data": {
      "text/plain": [
       "1-element Vector{Float64}:\n",
       " 2.0"
      ]
     },
     "metadata": {},
     "output_type": "display_data"
    }
   ],
   "source": [
    "qr.weights"
   ]
  },
  {
   "cell_type": "code",
   "execution_count": 5,
   "metadata": {},
   "outputs": [
    {
     "data": {
      "text/plain": [
       "f (generic function with 2 methods)"
      ]
     },
     "metadata": {},
     "output_type": "display_data"
    }
   ],
   "source": [
    "f(x::Number) = sin(x)\n",
    "f(x::Vec) = sin(x[1])"
   ]
  },
  {
   "cell_type": "code",
   "execution_count": 6,
   "metadata": {},
   "outputs": [
    {
     "data": {
      "text/plain": [
       "2-element Vector{Node{1, Float64}}:\n",
       " Node{1, Float64}([0.0])\n",
       " Node{1, Float64}([10.0])"
      ]
     },
     "metadata": {},
     "output_type": "display_data"
    }
   ],
   "source": [
    "nodes =  [Node(Vec((0.0))), Node(Vec((10.0)))]"
   ]
  },
  {
   "cell_type": "code",
   "execution_count": 7,
   "metadata": {},
   "outputs": [
    {
     "data": {
      "text/plain": [
       "Tuple{Int64, Int64}"
      ]
     },
     "metadata": {},
     "output_type": "display_data"
    }
   ],
   "source": [
    "typeof(((0, 1)))"
   ]
  },
  {
   "cell_type": "code",
   "execution_count": 8,
   "metadata": {},
   "outputs": [
    {
     "data": {
      "text/plain": [
       "1-element Vector{Line}:\n",
       " Line((1, 2))"
      ]
     },
     "metadata": {},
     "output_type": "display_data"
    }
   ],
   "source": [
    "#Cell{dim, 2, 2}(NTuple{2, Int}((1,2)))\n",
    "cells = [Line((1,2))]"
   ]
  },
  {
   "cell_type": "code",
   "execution_count": 9,
   "metadata": {},
   "outputs": [
    {
     "data": {
      "text/plain": [
       "Grid{1, Line, Float64} with 1 Line cells and 2 nodes"
      ]
     },
     "metadata": {},
     "output_type": "display_data"
    }
   ],
   "source": [
    "grid = Grid(cells, nodes)"
   ]
  },
  {
   "cell_type": "code",
   "execution_count": 10,
   "metadata": {},
   "outputs": [
    {
     "data": {
      "text/plain": [
       "2-element Vector{Vec{1, Float64}}:\n",
       " [0.0]\n",
       " [10.0]"
      ]
     },
     "metadata": {},
     "output_type": "display_data"
    }
   ],
   "source": [
    "coords = getcoordinates(grid, 1)"
   ]
  },
  {
   "cell_type": "code",
   "execution_count": 11,
   "metadata": {},
   "outputs": [
    {
     "data": {
      "text/plain": [
       "CellIterator{1, Line, Float64, Nothing}(UpdateFlags(true, true, true), Grid{1, Line, Float64}(Line[Line((1, 2))], Node{1, Float64}[Node{1, Float64}([0.0]), Node{1, Float64}([10.0])], Dict{String, Set{Int64}}(), Dict{String, Set{Int64}}(), Dict{String, Set{FaceIndex}}(), Dict{String, Set{EdgeIndex}}(), Dict{String, Set{VertexIndex}}(), sparse(Int64[], Int64[], Bool[], 0, 0)), Ferrite.ScalarWrapper{Int64}(0), [0, 0], Vec{1, Float64}[[0.0], [0.0]], nothing, nothing, #undef)"
      ]
     },
     "metadata": {},
     "output_type": "display_data"
    }
   ],
   "source": [
    "cellIter = CellIterator(grid)"
   ]
  },
  {
   "cell_type": "code",
   "execution_count": 12,
   "metadata": {},
   "outputs": [],
   "source": [
    "for cell in CellIterator(grid)\n",
    "    reinit!(cv, cell)\n",
    "end"
   ]
  },
  {
   "cell_type": "code",
   "execution_count": 13,
   "metadata": {},
   "outputs": [
    {
     "data": {
      "text/plain": [
       "2×1 Matrix{Vec{1, Float64}}:\n",
       " [-0.5]\n",
       " [0.5]"
      ]
     },
     "metadata": {},
     "output_type": "display_data"
    }
   ],
   "source": [
    "cv.dNdξ"
   ]
  },
  {
   "cell_type": "code",
   "execution_count": 16,
   "metadata": {},
   "outputs": [
    {
     "data": {
      "text/plain": [
       "2×1 Matrix{Vec{1, Float64}}:\n",
       " [-0.1]\n",
       " [0.1]"
      ]
     },
     "metadata": {},
     "output_type": "display_data"
    }
   ],
   "source": [
    "cv.dNdx"
   ]
  },
  {
   "cell_type": "code",
   "execution_count": 14,
   "metadata": {},
   "outputs": [
    {
     "data": {
      "text/plain": [
       "CellIterator{1, Line, Float64, Nothing}(UpdateFlags(true, true, true), Grid{1, Line, Float64}(Line[Line((1, 2))], Node{1, Float64}[Node{1, Float64}([0.0]), Node{1, Float64}([10.0])], Dict{String, Set{Int64}}(), Dict{String, Set{Int64}}(), Dict{String, Set{FaceIndex}}(), Dict{String, Set{EdgeIndex}}(), Dict{String, Set{VertexIndex}}(), sparse(Int64[], Int64[], Bool[], 0, 0)), Ferrite.ScalarWrapper{Int64}(1), [1, 2], Vec{1, Float64}[[0.0], [10.0]], nothing, nothing, #undef)"
      ]
     },
     "metadata": {},
     "output_type": "display_data"
    }
   ],
   "source": [
    "cell = collect(cellIter)[1]"
   ]
  },
  {
   "cell_type": "code",
   "execution_count": 15,
   "metadata": {},
   "outputs": [
    {
     "data": {
      "text/plain": [
       "1-element Vector{Float64}:\n",
       " 10.0"
      ]
     },
     "metadata": {},
     "output_type": "display_data"
    }
   ],
   "source": [
    "cv.detJdV"
   ]
  },
  {
   "cell_type": "code",
   "execution_count": 16,
   "metadata": {},
   "outputs": [
    {
     "data": {
      "text/plain": [
       "QuadratureRule{1, RefCube, Float64}([2.0], Vec{1, Float64}[[0.0]])"
      ]
     },
     "metadata": {},
     "output_type": "display_data"
    }
   ],
   "source": [
    "cv.qr"
   ]
  },
  {
   "cell_type": "code",
   "execution_count": 17,
   "metadata": {},
   "outputs": [
    {
     "data": {
      "text/plain": [
       "QuadratureRule{1, RefCube, Float64}([2.0], Vec{1, Float64}[[0.0]])"
      ]
     },
     "metadata": {},
     "output_type": "display_data"
    }
   ],
   "source": [
    "qr"
   ]
  },
  {
   "cell_type": "code",
   "execution_count": 18,
   "metadata": {},
   "outputs": [
    {
     "data": {
      "text/plain": [
       "1-element Vector{Vec{1, Float64}}:\n",
       " [0.0]"
      ]
     },
     "metadata": {},
     "output_type": "display_data"
    }
   ],
   "source": [
    "qr.points"
   ]
  },
  {
   "cell_type": "code",
   "execution_count": 19,
   "metadata": {},
   "outputs": [
    {
     "data": {
      "text/plain": [
       "1"
      ]
     },
     "metadata": {},
     "output_type": "display_data"
    }
   ],
   "source": [
    "quad_points = getnquadpoints(cv)"
   ]
  },
  {
   "cell_type": "code",
   "execution_count": 20,
   "metadata": {},
   "outputs": [
    {
     "name": "stdout",
     "output_type": "stream",
     "text": [
      "50.0"
     ]
    }
   ],
   "source": [
    "integration_value = 0.0\n",
    "\n",
    "for qp in getnquadpoints(cv)\n",
    "    integration_value += function_value(cv, qp, cell.coords)[1]*getdetJdV(cv, qp)\n",
    "end\n",
    "\n",
    "print(integration_value)\n"
   ]
  },
  {
   "cell_type": "code",
   "execution_count": 21,
   "metadata": {},
   "outputs": [
    {
     "data": {
      "text/plain": [
       "2-element Vector{Float64}:\n",
       "  0.0\n",
       " -0.5440211108893698"
      ]
     },
     "metadata": {},
     "output_type": "display_data"
    }
   ],
   "source": [
    "f_nodes = f.(cell.coords)"
   ]
  },
  {
   "cell_type": "code",
   "execution_count": 22,
   "metadata": {},
   "outputs": [
    {
     "data": {
      "text/plain": [
       "1-element Vec{1, Float64}:\n",
       " -0.05440211108893698"
      ]
     },
     "metadata": {},
     "output_type": "display_data"
    }
   ],
   "source": [
    "function_gradient(cv, 1, f_nodes)"
   ]
  },
  {
   "cell_type": "code",
   "execution_count": 23,
   "metadata": {},
   "outputs": [
    {
     "name": "stdout",
     "output_type": "stream",
     "text": [
      "-0.05440211108893698"
     ]
    }
   ],
   "source": [
    "gradient_value = 0.0\n",
    "\n",
    "for qp in getnquadpoints(cv)\n",
    "    gradient_value += function_gradient(cv, qp, f_nodes)[1]\n",
    "end\n",
    "\n",
    "print(gradient_value)\n"
   ]
  },
  {
   "cell_type": "code",
   "execution_count": 24,
   "metadata": {},
   "outputs": [
    {
     "data": {
      "text/plain": [
       "2-element Vector{Vec{1, Float64}}:\n",
       " [0.0]\n",
       " [10.0]"
      ]
     },
     "metadata": {},
     "output_type": "display_data"
    }
   ],
   "source": [
    "cell.coords"
   ]
  },
  {
   "cell_type": "code",
   "execution_count": 25,
   "metadata": {},
   "outputs": [
    {
     "data": {
      "text/plain": [
       "CellIterator{1, Line, Float64, Nothing}(UpdateFlags(true, true, true), Grid{1, Line, Float64}(Line[Line((1, 2))], Node{1, Float64}[Node{1, Float64}([0.0]), Node{1, Float64}([10.0])], Dict{String, Set{Int64}}(), Dict{String, Set{Int64}}(), Dict{String, Set{FaceIndex}}(), Dict{String, Set{EdgeIndex}}(), Dict{String, Set{VertexIndex}}(), sparse(Int64[], Int64[], Bool[], 0, 0)), Ferrite.ScalarWrapper{Int64}(1), [1, 2], Vec{1, Float64}[[0.0], [10.0]], nothing, nothing, #undef)"
      ]
     },
     "metadata": {},
     "output_type": "display_data"
    }
   ],
   "source": [
    "vals_ = values(cellIter)"
   ]
  },
  {
   "cell_type": "code",
   "execution_count": 26,
   "metadata": {},
   "outputs": [
    {
     "data": {
      "text/plain": [
       "2-element Vector{Int64}:\n",
       " 1\n",
       " 2"
      ]
     },
     "metadata": {},
     "output_type": "display_data"
    }
   ],
   "source": [
    "cell.nodes"
   ]
  },
  {
   "cell_type": "code",
   "execution_count": 27,
   "metadata": {},
   "outputs": [
    {
     "data": {
      "text/plain": [
       "DofHandler\n",
       "  Fields:\n",
       "  Not closed!"
      ]
     },
     "metadata": {},
     "output_type": "display_data"
    }
   ],
   "source": [
    "# Degrees of Freedom\n",
    "dh = DofHandler(grid)"
   ]
  },
  {
   "cell_type": "code",
   "execution_count": 28,
   "metadata": {},
   "outputs": [
    {
     "data": {
      "text/plain": [
       "DofHandler\n",
       "  Fields:\n",
       "    :u, interpolation: Lagrange{1, RefCube, 1}(), dim: 3\n",
       "  Not closed!"
      ]
     },
     "metadata": {},
     "output_type": "display_data"
    }
   ],
   "source": [
    "# define a new field\n",
    "push!(dh, :u, 3) # dim=3"
   ]
  },
  {
   "cell_type": "code",
   "execution_count": 33,
   "metadata": {},
   "outputs": [
    {
     "ename": "ErrorException",
     "evalue": "syntax: invalid identifier name \"?\"",
     "output_type": "error",
     "traceback": [
      "syntax: invalid identifier name \"?\"\n",
      "\n",
      "Stacktrace:\n",
      " [1] top-level scope\n",
      "   @ e:\\Applications\\Julia-1.8.2\\env\\dev\\Multiphysics\\Multiphysics.jl\\src\\Ferrite_deepTutorial.ipynb:1"
     ]
    }
   ],
   "source": [
    "?Ferrite.push!"
   ]
  },
  {
   "cell_type": "code",
   "execution_count": 34,
   "metadata": {},
   "outputs": [
    {
     "data": {
      "text/plain": [
       "1:6"
      ]
     },
     "metadata": {},
     "output_type": "display_data"
    }
   ],
   "source": [
    "dof_range(dh, :u)"
   ]
  },
  {
   "cell_type": "code",
   "execution_count": 35,
   "metadata": {},
   "outputs": [
    {
     "data": {
      "text/plain": [
       "1-element Vector{Symbol}:\n",
       " :u"
      ]
     },
     "metadata": {},
     "output_type": "display_data"
    }
   ],
   "source": [
    "Ferrite.getfieldnames(dh)"
   ]
  },
  {
   "cell_type": "code",
   "execution_count": 36,
   "metadata": {},
   "outputs": [],
   "source": [
    "# Assembly:"
   ]
  },
  {
   "cell_type": "code",
   "execution_count": null,
   "metadata": {},
   "outputs": [],
   "source": []
  }
 ],
 "metadata": {
  "kernelspec": {
   "display_name": "Julia 1.8.4",
   "language": "julia",
   "name": "julia-1.8"
  },
  "language_info": {
   "file_extension": ".jl",
   "mimetype": "application/julia",
   "name": "julia",
   "version": "1.8.4"
  }
 },
 "nbformat": 4,
 "nbformat_minor": 4
}
